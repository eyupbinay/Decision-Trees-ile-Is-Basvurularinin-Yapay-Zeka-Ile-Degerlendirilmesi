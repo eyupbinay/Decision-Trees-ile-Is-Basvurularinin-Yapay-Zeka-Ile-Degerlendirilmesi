{
 "cells": [
  {
   "cell_type": "code",
   "execution_count": null,
   "metadata": {},
   "outputs": [],
   "source": [
    "import numpy as np\n",
    "import pandas as pd\n",
    "from sklearn import tree\n",
    "\n",
    "df = pd.read_csv(\"DecisionTreesClassificationDataSet.csv\")"
   ]
  },
  {
   "cell_type": "code",
   "execution_count": null,
   "metadata": {},
   "outputs": [],
   "source": [
    "df.head()"
   ]
  },
  {
   "cell_type": "code",
   "execution_count": null,
   "metadata": {},
   "outputs": [],
   "source": [
    "duzetme_mapping = {'Y': 1, 'N': 0}\n",
    "\n",
    "df['IseAlindi'] = df['IseAlindi'].map(duzetme_mapping)\n",
    "df['SuanCalisiyor?'] = df['SuanCalisiyor?'].map(duzetme_mapping)\n",
    "df['Top10 Universite?'] = df['Top10 Universite?'].map(duzetme_mapping)\n",
    "df['StajBizdeYaptimi?'] = df['StajBizdeYaptimi?'].map(duzetme_mapping)\n",
    "duzetme_mapping_egitim = {'BS': 0, 'MS': 1, 'PhD': 2}\n",
    "df['Egitim Seviyesi'] = df['Egitim Seviyesi'].map(duzetme_mapping_egitim)\n",
    "df.head()"
   ]
  },
  {
   "cell_type": "code",
   "execution_count": null,
   "metadata": {},
   "outputs": [],
   "source": [
    "\n",
    "y = df['IseAlindi']\n",
    "X = df.drop(['IseAlindi'], axis=1)\n"
   ]
  },
  {
   "cell_type": "code",
   "execution_count": null,
   "metadata": {},
   "outputs": [],
   "source": [
    "X.head()"
   ]
  },
  {
   "cell_type": "code",
   "execution_count": null,
   "metadata": {},
   "outputs": [],
   "source": [
    "clf = tree.DecisionTreeClassifier()\n",
    "clf = clf.fit(X,y)"
   ]
  },
  {
   "cell_type": "code",
   "execution_count": null,
   "metadata": {},
   "outputs": [],
   "source": [
    "print (clf.predict([[5, 1, 3, 0, 0, 0]]))"
   ]
  },
  {
   "cell_type": "code",
   "execution_count": null,
   "metadata": {},
   "outputs": [],
   "source": [
    "print (clf.predict([[2, 0, 7, 0, 1, 0]]))"
   ]
  }
 ],
 "metadata": {
  "kernelspec": {
   "display_name": "Python 3 (ipykernel)",
   "language": "python",
   "name": "python3"
  },
  "language_info": {
   "codemirror_mode": {
    "name": "ipython",
    "version": 3
   },
   "file_extension": ".py",
   "mimetype": "text/x-python",
   "name": "python",
   "nbconvert_exporter": "python",
   "pygments_lexer": "ipython3",
   "version": "3.7.13"
  }
 },
 "nbformat": 4,
 "nbformat_minor": 1
}
